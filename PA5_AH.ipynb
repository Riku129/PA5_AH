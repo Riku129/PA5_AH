{
 "cells": [
  {
   "cell_type": "markdown",
   "id": "8249834a",
   "metadata": {},
   "source": [
    "# Adham Howaidy\n",
    "\n",
    "### Programming Assignment 5\n",
    "\n",
    "### CS150-01\n",
    "\n",
    "### Computer Programming for the Liberal Arts\n",
    "\n",
    "### Fall 2021\n",
    "\n",
    "### Pyhton V3"
   ]
  },
  {
   "cell_type": "code",
   "execution_count": 5,
   "id": "55980d8e",
   "metadata": {},
   "outputs": [
    {
     "name": "stdout",
     "output_type": "stream",
     "text": [
      "Enter a word to translate from English to French (enter 0 to stop): \n",
      "0\n"
     ]
    }
   ],
   "source": [
    "FrenchDict ={'place':'stead',\n",
    "            'laugh':'rire',\n",
    "            'game':'jeu',\n",
    "            'shape':'forme',\n",
    "            'hot':'chaud',\n",
    "            'wait':'patienter',\n",
    "            'beauty':'beaute',\n",
    "            'final':'finale',\n",
    "            'fast':'rapide',\n",
    "            'travel':'voyage',\n",
    "            'war':'guerre',\n",
    "            'person':'personne',\n",
    "            'serve':'servir',\n",
    "            'road':'route',\n",
    "            'voice':'voix',\n",
    "            'rule':'regle',\n",
    "            'carry':'porter',\n",
    "            'room':'chambre',\n",
    "            'fish':'poisson',\n",
    "             'horse':'cheval'}\n",
    "\n",
    "x = FrenchDict\n",
    "\n",
    "while x!=0:\n",
    "    print(\"Enter a word to translate from English to French (enter 0 to stop): \")\n",
    "    x=input()\n",
    "    if x == \"0\":\n",
    "        break\n",
    "    else:\n",
    "        print(\"The French word for\",x,\"is\", FrenchDict.get(x))"
   ]
  },
  {
   "cell_type": "code",
   "execution_count": 7,
   "id": "bdc563d4",
   "metadata": {},
   "outputs": [
    {
     "name": "stdout",
     "output_type": "stream",
     "text": [
      "{'1': 12.777777777777779, '2': 13.333333333333334, '3': 13.88888888888889, '4': 24.444444444444446, '5': 12.777777777777779, '6': 13.88888888888889, '7': 1.1111111111111112, '8': 36.66666666666667, '9': 25.555555555555557, '10': 27.77777777777778, '11': 30.555555555555557, '12': 26.11111111111111, '13': 23.88888888888889, '14': 31.111111111111114, '15': 29.444444444444446, '16': 29.444444444444446, '17': 31.666666666666668, '18': 31.666666666666668, '19': 30.0, '20': 25.555555555555557, '21': 25.555555555555557, '22': 21.666666666666668, '23': 21.666666666666668, '24': 24.444444444444446, '25': 23.333333333333336, '26': 25.0, '27': 29.444444444444446, '28': 30.555555555555557, '29': 31.666666666666668, '30': 30.0}\n"
     ]
    }
   ],
   "source": [
    "Temps = {'1':55,'2':56,'3':57,'4':76,'5':55,'6':57,'7':34,'8':98,'9':78,'10':82,'11':87,'12':79,\n",
    "        '13':75, '14':88, '15':85, '16':85, '17':89, '18':89, '19':86, '20':78, '21':78, '22':71,\n",
    "        '23':71, '24':76, '25':74, '26':77, '27':85, '28':87, '29':89, '30':86}\n",
    "\n",
    "def celcius(x):\n",
    "    return (x-32)*(5/9)\n",
    "for keys in Temps:\n",
    "    C = celcius(Temps[keys])\n",
    "    Temps[keys] = C\n",
    "print(Temps)"
   ]
  },
  {
   "cell_type": "code",
   "execution_count": 2,
   "id": "8068563d",
   "metadata": {},
   "outputs": [
    {
     "name": "stdout",
     "output_type": "stream",
     "text": [
      "{'a', 'e', 'b'}\n",
      "{'e', 'a', 'b'}\n",
      "{'c', 'a', 'b', 'd'}\n",
      "{'c', 'd', 'e'}\n"
     ]
    }
   ],
   "source": [
    "# The Python symmetric_difference() method returns the symmetric difference of two sets\n",
    "A = {'a', 'b', 'c', 'd'}\n",
    "B = {'c', 'd', 'e' }\n",
    "C = {}\n",
    "print(A.symmetric_difference(B))\n",
    "print(B.symmetric_difference(A))\n",
    "print(A.symmetric_difference(C))\n",
    "print(B.symmetric_difference(C))"
   ]
  },
  {
   "cell_type": "code",
   "execution_count": 1,
   "id": "e430a7d0",
   "metadata": {},
   "outputs": [
    {
     "name": "stdout",
     "output_type": "stream",
     "text": [
      "Are X and Y are disjoint Sets? False\n",
      "Are X and Z are disjoint Sets? True\n"
     ]
    }
   ],
   "source": [
    "# .isdisjoint() method checks whether the two sets are disjoint sets or not. If the sets are disjoint, this method returns true else it returns false\n",
    "X = {4, 5}\n",
    "Y = {4, 5, 6}\n",
    "Z = {10, 20, 30}\n",
    "print(\"Are X and Y are disjoint Sets?\", X.isdisjoint(Y))\n",
    "print(\"Are X and Z are disjoint Sets?\", X.isdisjoint(Z))"
   ]
  },
  {
   "cell_type": "code",
   "execution_count": 6,
   "id": "69079868",
   "metadata": {},
   "outputs": [
    {
     "name": "stdout",
     "output_type": "stream",
     "text": [
      "result = None\n",
      "A = {2, 3, 4}\n",
      "B = {2, 3, 4, 5}\n"
     ]
    }
   ],
   "source": [
    "# The intersection_update() updates the set calling intersection_update() method with the intersection of sets\n",
    "A = {1, 2, 3, 4}\n",
    "B = {2, 3, 4, 5}\n",
    "result = A.intersection_update(B)\n",
    "\n",
    "print('result =', result)\n",
    "print('A =', A)\n",
    "print('B =', B)"
   ]
  },
  {
   "cell_type": "code",
   "execution_count": 7,
   "id": "c41d3c5f",
   "metadata": {},
   "outputs": [
    {
     "name": "stdout",
     "output_type": "stream",
     "text": [
      "{'a', 'e', 'b'}\n",
      "{'e', 'a', 'b'}\n"
     ]
    }
   ],
   "source": [
    "# Symmetric difference using the ^ operator\n",
    "A = {'a', 'b', 'c', 'd'}\n",
    "B = {'c', 'd', 'e' }\n",
    "print(A ^ B)\n",
    "print(B ^ A)"
   ]
  },
  {
   "cell_type": "code",
   "execution_count": 8,
   "id": "1ebb52bd",
   "metadata": {},
   "outputs": [
    {
     "name": "stdout",
     "output_type": "stream",
     "text": [
      "{'Hello', 'end', 'start', 'the', 'is', 'this'}\n"
     ]
    }
   ],
   "source": [
    "# remove() removes the given element from the set\n",
    "strings = {'Hello', 'is', 'an', 'start', 'end', 'this', 'the'}\n",
    "strings.remove('an')\n",
    "print(strings)"
   ]
  },
  {
   "cell_type": "code",
   "execution_count": 9,
   "id": "605287e3",
   "metadata": {},
   "outputs": [
    {
     "name": "stdout",
     "output_type": "stream",
     "text": [
      "{'Hello', 'end', 'start', 'the', 'is', 'this'}\n"
     ]
    }
   ],
   "source": [
    "# discard() also removes an element from a set\n",
    "strings = {'Hello', 'is', 'an', 'start', 'end', 'this', 'the'}\n",
    "strings.discard('an')\n",
    "print(strings)"
   ]
  },
  {
   "cell_type": "code",
   "execution_count": 10,
   "id": "d0280fff",
   "metadata": {},
   "outputs": [
    {
     "name": "stdout",
     "output_type": "stream",
     "text": [
      "{'end', 'start', 'the', 'an', 'is', 'this'}\n"
     ]
    }
   ],
   "source": [
    "# pop() removes an element from a set and if a caertain element is not chosen, then pop() will remove a random element in the set\n",
    "strings = {'Hello', 'is', 'an', 'start', 'end', 'this', 'the'}\n",
    "strings.pop()\n",
    "print(strings)"
   ]
  },
  {
   "cell_type": "code",
   "execution_count": null,
   "id": "d2f85775",
   "metadata": {},
   "outputs": [],
   "source": [
    "engtofre = {}\n",
    "engtofre[\"one\"] = \"un\"\n",
    "engtofre[\"two\"] = \"deux\"\n",
    "engtofre[\"three\"] = \"trois\"\n",
    "engtofre[\"people\"] = \"personnes\"\n",
    "engtofre[\"no\"] = \"non\"\n",
    "engtofre[\"yes\"] = \"oui\"\n",
    "engtofre[\"with\"] = \"avec\"\n",
    "\n",
    "print(engtofre)"
   ]
  }
 ],
 "metadata": {
  "kernelspec": {
   "display_name": "Python 3",
   "language": "python",
   "name": "python3"
  },
  "language_info": {
   "codemirror_mode": {
    "name": "ipython",
    "version": 3
   },
   "file_extension": ".py",
   "mimetype": "text/x-python",
   "name": "python",
   "nbconvert_exporter": "python",
   "pygments_lexer": "ipython3",
   "version": "3.8.8"
  }
 },
 "nbformat": 4,
 "nbformat_minor": 5
}
